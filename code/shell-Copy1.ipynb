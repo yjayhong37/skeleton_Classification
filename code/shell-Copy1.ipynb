{
 "cells": [
  {
   "cell_type": "code",
   "execution_count": 1,
   "id": "4a7c760a",
   "metadata": {
    "scrolled": false
   },
   "outputs": [
    {
     "name": "stdout",
     "output_type": "stream",
     "text": [
      "Number of GPUs available: 1\n",
      "Total Video Samples: 1191 || Total Participants: 104 || Train Participants: 84 || Validation Participants: 20\n",
      "Train samples: 3048 || Validation samples: 525\n",
      "Training...\n",
      " 73%|██████████████████████████████▏          | 280/381 [00:25<00:09, 10.96it/s]^C\n",
      " 74%|██████████████████████████████▎          | 282/381 [00:25<00:09, 10.99it/s]\n",
      "Traceback (most recent call last):\n",
      "  File \"/home/youngjoon/DEV/ntu-skeleton/code/main.py\", line 262, in <module>\n",
      "    main(params)\n",
      "  File \"/home/youngjoon/DEV/ntu-skeleton/code/main.py\", line 179, in main\n",
      "    model = train(model, train_loader, loss_function, optimizer, params)\n",
      "  File \"/home/youngjoon/DEV/ntu-skeleton/code/main.py\", line 56, in train\n",
      "    inputs = batch[0].float().cuda()\n",
      "KeyboardInterrupt\n"
     ]
    }
   ],
   "source": [
    "! python main.py --data_path='/home/youngjoon/Desktop/ntu_raw_npy/' --n_epochs=100"
   ]
  },
  {
   "cell_type": "code",
   "execution_count": null,
   "id": "00fe1f92",
   "metadata": {},
   "outputs": [],
   "source": []
  }
 ],
 "metadata": {
  "kernelspec": {
   "display_name": "Python 3 (ipykernel)",
   "language": "python",
   "name": "python3"
  },
  "language_info": {
   "codemirror_mode": {
    "name": "ipython",
    "version": 3
   },
   "file_extension": ".py",
   "mimetype": "text/x-python",
   "name": "python",
   "nbconvert_exporter": "python",
   "pygments_lexer": "ipython3",
   "version": "3.10.6"
  }
 },
 "nbformat": 4,
 "nbformat_minor": 5
}
